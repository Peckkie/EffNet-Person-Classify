{
 "cells": [
  {
   "cell_type": "code",
   "execution_count": 1,
   "id": "be5dea3e",
   "metadata": {},
   "outputs": [
    {
     "name": "stdout",
     "output_type": "stream",
     "text": [
      "(283191, 12)\n"
     ]
    },
    {
     "name": "stderr",
     "output_type": "stream",
     "text": [
      "/home/yupaporn/.local/lib/python3.6/site-packages/IPython/core/interactiveshell.py:3072: DtypeWarning: Columns (9) have mixed types.Specify dtype option on import or set low_memory=False.\n",
      "  interactivity=interactivity, compiler=compiler, result=result)\n"
     ]
    },
    {
     "data": {
      "text/html": [
       "<div>\n",
       "<style scoped>\n",
       "    .dataframe tbody tr th:only-of-type {\n",
       "        vertical-align: middle;\n",
       "    }\n",
       "\n",
       "    .dataframe tbody tr th {\n",
       "        vertical-align: top;\n",
       "    }\n",
       "\n",
       "    .dataframe thead th {\n",
       "        text-align: right;\n",
       "    }\n",
       "</style>\n",
       "<table border=\"1\" class=\"dataframe\">\n",
       "  <thead>\n",
       "    <tr style=\"text-align: right;\">\n",
       "      <th></th>\n",
       "      <th>Unnamed: 0</th>\n",
       "      <th>path_img</th>\n",
       "      <th>img_no</th>\n",
       "      <th>branch</th>\n",
       "      <th>Path_folder_web</th>\n",
       "      <th>camera_angle</th>\n",
       "      <th>gender</th>\n",
       "      <th>category</th>\n",
       "      <th>work_by</th>\n",
       "      <th>status</th>\n",
       "      <th>clip_from</th>\n",
       "      <th>split</th>\n",
       "    </tr>\n",
       "  </thead>\n",
       "  <tbody>\n",
       "    <tr>\n",
       "      <th>0</th>\n",
       "      <td>3</td>\n",
       "      <td>/media/hdd/tan/code/Show-Images/static/BearHou...</td>\n",
       "      <td>1</td>\n",
       "      <td>Fashion</td>\n",
       "      <td>BearHouse-Person/Fashion_ch3_20230310145957_20...</td>\n",
       "      <td>ch3</td>\n",
       "      <td>Men</td>\n",
       "      <td>Student</td>\n",
       "      <td>Nat</td>\n",
       "      <td>NaN</td>\n",
       "      <td>Bear-House</td>\n",
       "      <td>train</td>\n",
       "    </tr>\n",
       "    <tr>\n",
       "      <th>1</th>\n",
       "      <td>50</td>\n",
       "      <td>/media/hdd/tan/code/Show-Images/static/BearHou...</td>\n",
       "      <td>2</td>\n",
       "      <td>Fashion</td>\n",
       "      <td>BearHouse-Person/Fashion_ch3_20230310145957_20...</td>\n",
       "      <td>ch3</td>\n",
       "      <td>Men</td>\n",
       "      <td>Student</td>\n",
       "      <td>Nat</td>\n",
       "      <td>NaN</td>\n",
       "      <td>Bear-House</td>\n",
       "      <td>train</td>\n",
       "    </tr>\n",
       "    <tr>\n",
       "      <th>2</th>\n",
       "      <td>58</td>\n",
       "      <td>/media/hdd/tan/code/Show-Images/static/BearHou...</td>\n",
       "      <td>3</td>\n",
       "      <td>Fashion</td>\n",
       "      <td>BearHouse-Person/Fashion_ch3_20230310145957_20...</td>\n",
       "      <td>ch3</td>\n",
       "      <td>Men</td>\n",
       "      <td>Student</td>\n",
       "      <td>Nat</td>\n",
       "      <td>NaN</td>\n",
       "      <td>Bear-House</td>\n",
       "      <td>train</td>\n",
       "    </tr>\n",
       "    <tr>\n",
       "      <th>3</th>\n",
       "      <td>2</td>\n",
       "      <td>/media/hdd/tan/code/Show-Images/static/BearHou...</td>\n",
       "      <td>4</td>\n",
       "      <td>Fashion</td>\n",
       "      <td>BearHouse-Person/Fashion_ch3_20230310145957_20...</td>\n",
       "      <td>ch3</td>\n",
       "      <td>Men</td>\n",
       "      <td>Student</td>\n",
       "      <td>Nat</td>\n",
       "      <td>NaN</td>\n",
       "      <td>Bear-House</td>\n",
       "      <td>train</td>\n",
       "    </tr>\n",
       "    <tr>\n",
       "      <th>4</th>\n",
       "      <td>43</td>\n",
       "      <td>/media/hdd/tan/code/Show-Images/static/BearHou...</td>\n",
       "      <td>5</td>\n",
       "      <td>Fashion</td>\n",
       "      <td>BearHouse-Person/Fashion_ch3_20230310145957_20...</td>\n",
       "      <td>ch3</td>\n",
       "      <td>Men</td>\n",
       "      <td>Student</td>\n",
       "      <td>Nat</td>\n",
       "      <td>NaN</td>\n",
       "      <td>Bear-House</td>\n",
       "      <td>train</td>\n",
       "    </tr>\n",
       "  </tbody>\n",
       "</table>\n",
       "</div>"
      ],
      "text/plain": [
       "   Unnamed: 0                                           path_img  img_no  \\\n",
       "0           3  /media/hdd/tan/code/Show-Images/static/BearHou...       1   \n",
       "1          50  /media/hdd/tan/code/Show-Images/static/BearHou...       2   \n",
       "2          58  /media/hdd/tan/code/Show-Images/static/BearHou...       3   \n",
       "3           2  /media/hdd/tan/code/Show-Images/static/BearHou...       4   \n",
       "4          43  /media/hdd/tan/code/Show-Images/static/BearHou...       5   \n",
       "\n",
       "    branch                                    Path_folder_web camera_angle  \\\n",
       "0  Fashion  BearHouse-Person/Fashion_ch3_20230310145957_20...          ch3   \n",
       "1  Fashion  BearHouse-Person/Fashion_ch3_20230310145957_20...          ch3   \n",
       "2  Fashion  BearHouse-Person/Fashion_ch3_20230310145957_20...          ch3   \n",
       "3  Fashion  BearHouse-Person/Fashion_ch3_20230310145957_20...          ch3   \n",
       "4  Fashion  BearHouse-Person/Fashion_ch3_20230310145957_20...          ch3   \n",
       "\n",
       "  gender category work_by status   clip_from  split  \n",
       "0    Men  Student     Nat    NaN  Bear-House  train  \n",
       "1    Men  Student     Nat    NaN  Bear-House  train  \n",
       "2    Men  Student     Nat    NaN  Bear-House  train  \n",
       "3    Men  Student     Nat    NaN  Bear-House  train  \n",
       "4    Men  Student     Nat    NaN  Bear-House  train  "
      ]
     },
     "execution_count": 1,
     "metadata": {},
     "output_type": "execute_result"
    }
   ],
   "source": [
    "# OPEN CSV file\n",
    "import pandas as pd \n",
    "df = pd.read_csv('/home/yupaporn/code/EffNet-Person-Classify/data_label_by_tan_10082023_splited_imgpath.csv')\n",
    "print(df.shape)\n",
    "df.head()"
   ]
  },
  {
   "cell_type": "code",
   "execution_count": 2,
   "id": "50753b5d",
   "metadata": {},
   "outputs": [
    {
     "data": {
      "text/html": [
       "<div>\n",
       "<style scoped>\n",
       "    .dataframe tbody tr th:only-of-type {\n",
       "        vertical-align: middle;\n",
       "    }\n",
       "\n",
       "    .dataframe tbody tr th {\n",
       "        vertical-align: top;\n",
       "    }\n",
       "\n",
       "    .dataframe thead th {\n",
       "        text-align: right;\n",
       "    }\n",
       "</style>\n",
       "<table border=\"1\" class=\"dataframe\">\n",
       "  <thead>\n",
       "    <tr style=\"text-align: right;\">\n",
       "      <th></th>\n",
       "      <th>split</th>\n",
       "      <th>gender</th>\n",
       "      <th>Path_folder_web</th>\n",
       "    </tr>\n",
       "  </thead>\n",
       "  <tbody>\n",
       "    <tr>\n",
       "      <th>0</th>\n",
       "      <td>test</td>\n",
       "      <td>Men</td>\n",
       "      <td>26007</td>\n",
       "    </tr>\n",
       "    <tr>\n",
       "      <th>1</th>\n",
       "      <td>test</td>\n",
       "      <td>Women</td>\n",
       "      <td>22909</td>\n",
       "    </tr>\n",
       "    <tr>\n",
       "      <th>2</th>\n",
       "      <td>test</td>\n",
       "      <td>motorcycle</td>\n",
       "      <td>7604</td>\n",
       "    </tr>\n",
       "    <tr>\n",
       "      <th>3</th>\n",
       "      <td>train</td>\n",
       "      <td>Men</td>\n",
       "      <td>104090</td>\n",
       "    </tr>\n",
       "    <tr>\n",
       "      <th>4</th>\n",
       "      <td>train</td>\n",
       "      <td>Women</td>\n",
       "      <td>91742</td>\n",
       "    </tr>\n",
       "    <tr>\n",
       "      <th>5</th>\n",
       "      <td>train</td>\n",
       "      <td>motorcycle</td>\n",
       "      <td>30839</td>\n",
       "    </tr>\n",
       "  </tbody>\n",
       "</table>\n",
       "</div>"
      ],
      "text/plain": [
       "   split      gender  Path_folder_web\n",
       "0   test         Men            26007\n",
       "1   test       Women            22909\n",
       "2   test  motorcycle             7604\n",
       "3  train         Men           104090\n",
       "4  train       Women            91742\n",
       "5  train  motorcycle            30839"
      ]
     },
     "execution_count": 2,
     "metadata": {},
     "output_type": "execute_result"
    }
   ],
   "source": [
    "df.groupby(['split','gender'])['Path_folder_web'].count().reset_index()"
   ]
  },
  {
   "cell_type": "code",
   "execution_count": 2,
   "id": "0ed68e01",
   "metadata": {},
   "outputs": [],
   "source": [
    "# import glob\n",
    "# import pandas as pd\n",
    "# import numpy as np\n",
    "# import json\n",
    "# import os\n",
    "\n",
    "# os.chdir('/media/SSD/')\n",
    "\n",
    "# Path_folder = df['Path_folder_web'].tolist()\n",
    "# Path_folder[0]\n",
    "\n",
    "# path = '/media/SSD/'\n",
    "# lost = []\n",
    "# for j in range(len(Path_folder)):\n",
    "#     try:\n",
    "#         os.chdir(path+Path_folder[j])\n",
    "#         file = glob.glob('*')\n",
    "#         print(len(file))\n",
    "#     except:\n",
    "#         lost.append(path+Path_folder[j])\n",
    "#         print(path+Path_folder[j])"
   ]
  },
  {
   "cell_type": "code",
   "execution_count": 3,
   "id": "4f9567c7",
   "metadata": {},
   "outputs": [],
   "source": [
    "path_img = list(df['path_img'])\n",
    "path_img_ = []\n",
    "for i in range(len(path_img)):\n",
    "    a = path_img[i].split('/media/hdd/tan/code/Show-Images/static/')\n",
    "    path_i = '/media/SSD/'+ a[1]\n",
    "    path_img_.append(path_i)"
   ]
  },
  {
   "cell_type": "code",
   "execution_count": 4,
   "id": "baff9962",
   "metadata": {},
   "outputs": [],
   "source": [
    "df['path_img_28'] = path_img_"
   ]
  },
  {
   "cell_type": "code",
   "execution_count": 5,
   "id": "35990476",
   "metadata": {},
   "outputs": [
    {
     "data": {
      "text/html": [
       "<div>\n",
       "<style scoped>\n",
       "    .dataframe tbody tr th:only-of-type {\n",
       "        vertical-align: middle;\n",
       "    }\n",
       "\n",
       "    .dataframe tbody tr th {\n",
       "        vertical-align: top;\n",
       "    }\n",
       "\n",
       "    .dataframe thead th {\n",
       "        text-align: right;\n",
       "    }\n",
       "</style>\n",
       "<table border=\"1\" class=\"dataframe\">\n",
       "  <thead>\n",
       "    <tr style=\"text-align: right;\">\n",
       "      <th></th>\n",
       "      <th>Unnamed: 0</th>\n",
       "      <th>path_img</th>\n",
       "      <th>img_no</th>\n",
       "      <th>branch</th>\n",
       "      <th>Path_folder_web</th>\n",
       "      <th>camera_angle</th>\n",
       "      <th>gender</th>\n",
       "      <th>category</th>\n",
       "      <th>work_by</th>\n",
       "      <th>status</th>\n",
       "      <th>clip_from</th>\n",
       "      <th>split</th>\n",
       "      <th>path_img_28</th>\n",
       "    </tr>\n",
       "  </thead>\n",
       "  <tbody>\n",
       "    <tr>\n",
       "      <th>0</th>\n",
       "      <td>3</td>\n",
       "      <td>/media/hdd/tan/code/Show-Images/static/BearHou...</td>\n",
       "      <td>1</td>\n",
       "      <td>Fashion</td>\n",
       "      <td>BearHouse-Person/Fashion_ch3_20230310145957_20...</td>\n",
       "      <td>ch3</td>\n",
       "      <td>Men</td>\n",
       "      <td>Student</td>\n",
       "      <td>Nat</td>\n",
       "      <td>NaN</td>\n",
       "      <td>Bear-House</td>\n",
       "      <td>train</td>\n",
       "      <td>/media/SSD/BearHouse-Person/Fashion_ch3_202303...</td>\n",
       "    </tr>\n",
       "    <tr>\n",
       "      <th>1</th>\n",
       "      <td>50</td>\n",
       "      <td>/media/hdd/tan/code/Show-Images/static/BearHou...</td>\n",
       "      <td>2</td>\n",
       "      <td>Fashion</td>\n",
       "      <td>BearHouse-Person/Fashion_ch3_20230310145957_20...</td>\n",
       "      <td>ch3</td>\n",
       "      <td>Men</td>\n",
       "      <td>Student</td>\n",
       "      <td>Nat</td>\n",
       "      <td>NaN</td>\n",
       "      <td>Bear-House</td>\n",
       "      <td>train</td>\n",
       "      <td>/media/SSD/BearHouse-Person/Fashion_ch3_202303...</td>\n",
       "    </tr>\n",
       "    <tr>\n",
       "      <th>2</th>\n",
       "      <td>58</td>\n",
       "      <td>/media/hdd/tan/code/Show-Images/static/BearHou...</td>\n",
       "      <td>3</td>\n",
       "      <td>Fashion</td>\n",
       "      <td>BearHouse-Person/Fashion_ch3_20230310145957_20...</td>\n",
       "      <td>ch3</td>\n",
       "      <td>Men</td>\n",
       "      <td>Student</td>\n",
       "      <td>Nat</td>\n",
       "      <td>NaN</td>\n",
       "      <td>Bear-House</td>\n",
       "      <td>train</td>\n",
       "      <td>/media/SSD/BearHouse-Person/Fashion_ch3_202303...</td>\n",
       "    </tr>\n",
       "    <tr>\n",
       "      <th>3</th>\n",
       "      <td>2</td>\n",
       "      <td>/media/hdd/tan/code/Show-Images/static/BearHou...</td>\n",
       "      <td>4</td>\n",
       "      <td>Fashion</td>\n",
       "      <td>BearHouse-Person/Fashion_ch3_20230310145957_20...</td>\n",
       "      <td>ch3</td>\n",
       "      <td>Men</td>\n",
       "      <td>Student</td>\n",
       "      <td>Nat</td>\n",
       "      <td>NaN</td>\n",
       "      <td>Bear-House</td>\n",
       "      <td>train</td>\n",
       "      <td>/media/SSD/BearHouse-Person/Fashion_ch3_202303...</td>\n",
       "    </tr>\n",
       "    <tr>\n",
       "      <th>4</th>\n",
       "      <td>43</td>\n",
       "      <td>/media/hdd/tan/code/Show-Images/static/BearHou...</td>\n",
       "      <td>5</td>\n",
       "      <td>Fashion</td>\n",
       "      <td>BearHouse-Person/Fashion_ch3_20230310145957_20...</td>\n",
       "      <td>ch3</td>\n",
       "      <td>Men</td>\n",
       "      <td>Student</td>\n",
       "      <td>Nat</td>\n",
       "      <td>NaN</td>\n",
       "      <td>Bear-House</td>\n",
       "      <td>train</td>\n",
       "      <td>/media/SSD/BearHouse-Person/Fashion_ch3_202303...</td>\n",
       "    </tr>\n",
       "  </tbody>\n",
       "</table>\n",
       "</div>"
      ],
      "text/plain": [
       "   Unnamed: 0                                           path_img  img_no  \\\n",
       "0           3  /media/hdd/tan/code/Show-Images/static/BearHou...       1   \n",
       "1          50  /media/hdd/tan/code/Show-Images/static/BearHou...       2   \n",
       "2          58  /media/hdd/tan/code/Show-Images/static/BearHou...       3   \n",
       "3           2  /media/hdd/tan/code/Show-Images/static/BearHou...       4   \n",
       "4          43  /media/hdd/tan/code/Show-Images/static/BearHou...       5   \n",
       "\n",
       "    branch                                    Path_folder_web camera_angle  \\\n",
       "0  Fashion  BearHouse-Person/Fashion_ch3_20230310145957_20...          ch3   \n",
       "1  Fashion  BearHouse-Person/Fashion_ch3_20230310145957_20...          ch3   \n",
       "2  Fashion  BearHouse-Person/Fashion_ch3_20230310145957_20...          ch3   \n",
       "3  Fashion  BearHouse-Person/Fashion_ch3_20230310145957_20...          ch3   \n",
       "4  Fashion  BearHouse-Person/Fashion_ch3_20230310145957_20...          ch3   \n",
       "\n",
       "  gender category work_by status   clip_from  split  \\\n",
       "0    Men  Student     Nat    NaN  Bear-House  train   \n",
       "1    Men  Student     Nat    NaN  Bear-House  train   \n",
       "2    Men  Student     Nat    NaN  Bear-House  train   \n",
       "3    Men  Student     Nat    NaN  Bear-House  train   \n",
       "4    Men  Student     Nat    NaN  Bear-House  train   \n",
       "\n",
       "                                         path_img_28  \n",
       "0  /media/SSD/BearHouse-Person/Fashion_ch3_202303...  \n",
       "1  /media/SSD/BearHouse-Person/Fashion_ch3_202303...  \n",
       "2  /media/SSD/BearHouse-Person/Fashion_ch3_202303...  \n",
       "3  /media/SSD/BearHouse-Person/Fashion_ch3_202303...  \n",
       "4  /media/SSD/BearHouse-Person/Fashion_ch3_202303...  "
      ]
     },
     "execution_count": 5,
     "metadata": {},
     "output_type": "execute_result"
    }
   ],
   "source": [
    "df.head()"
   ]
  },
  {
   "cell_type": "code",
   "execution_count": 6,
   "id": "fda9f1ca",
   "metadata": {},
   "outputs": [],
   "source": [
    "df.to_csv('/home/yupaporn/code/EffNet-Person-Classify/data_label_by_tan_10082023_splited_imgpath28.csv')"
   ]
  },
  {
   "cell_type": "markdown",
   "id": "541c67c2",
   "metadata": {},
   "source": [
    "# split validation"
   ]
  },
  {
   "cell_type": "code",
   "execution_count": 12,
   "id": "0051176a",
   "metadata": {},
   "outputs": [
    {
     "data": {
      "text/plain": [
       "3215"
      ]
     },
     "execution_count": 12,
     "metadata": {},
     "output_type": "execute_result"
    }
   ],
   "source": [
    "case = list(set(df[df['split'] == 'train']['Path_folder_web']))\n",
    "len(case)"
   ]
  },
  {
   "cell_type": "code",
   "execution_count": 17,
   "id": "13881083",
   "metadata": {},
   "outputs": [
    {
     "data": {
      "text/plain": [
       "2572"
      ]
     },
     "execution_count": 17,
     "metadata": {},
     "output_type": "execute_result"
    }
   ],
   "source": [
    "from random import sample\n",
    "res_samle = sample(case,int(len(case)*0.8))\n",
    "len(set(res_samle))"
   ]
  },
  {
   "cell_type": "code",
   "execution_count": 23,
   "id": "61cc38fd",
   "metadata": {},
   "outputs": [
    {
     "name": "stdout",
     "output_type": "stream",
     "text": [
      "(181741, 13)\n",
      "(44930, 13)\n"
     ]
    },
    {
     "name": "stderr",
     "output_type": "stream",
     "text": [
      "/home/yupaporn/.local/lib/python3.6/site-packages/ipykernel_launcher.py:6: SettingWithCopyWarning: \n",
      "A value is trying to be set on a copy of a slice from a DataFrame.\n",
      "Try using .loc[row_indexer,col_indexer] = value instead\n",
      "\n",
      "See the caveats in the documentation: https://pandas.pydata.org/pandas-docs/stable/user_guide/indexing.html#returning-a-view-versus-a-copy\n",
      "  \n",
      "/home/yupaporn/.local/lib/python3.6/site-packages/ipykernel_launcher.py:9: SettingWithCopyWarning: \n",
      "A value is trying to be set on a copy of a slice from a DataFrame.\n",
      "Try using .loc[row_indexer,col_indexer] = value instead\n",
      "\n",
      "See the caveats in the documentation: https://pandas.pydata.org/pandas-docs/stable/user_guide/indexing.html#returning-a-view-versus-a-copy\n",
      "  if __name__ == '__main__':\n"
     ]
    }
   ],
   "source": [
    "train = df[df['Path_folder_web'].isin(res_samle)]\n",
    "\n",
    "df_train = df[df['split'] == 'train']\n",
    "\n",
    "train = df_train[df_train['Path_folder_web'].isin(res_samle)]\n",
    "train['split'] = 'train'\n",
    "\n",
    "val = df_train[~df_train['Path_folder_web'].isin(res_samle)]\n",
    "val['split'] = 'val'\n",
    "\n",
    "print(train.shape)\n",
    "print(val.shape)"
   ]
  },
  {
   "cell_type": "code",
   "execution_count": 24,
   "id": "4f945eda",
   "metadata": {},
   "outputs": [],
   "source": [
    "train.to_csv('/home/yupaporn/code/EffNet-Person-Classify/data_label_by_tan_10082023_splited_imgpath28_train.csv')"
   ]
  },
  {
   "cell_type": "code",
   "execution_count": 25,
   "id": "8ec1edaf",
   "metadata": {},
   "outputs": [],
   "source": [
    "val.to_csv('/home/yupaporn/code/EffNet-Person-Classify/data_label_by_tan_10082023_splited_imgpath28_val.csv')"
   ]
  },
  {
   "cell_type": "code",
   "execution_count": 7,
   "id": "a0e542cc",
   "metadata": {},
   "outputs": [],
   "source": [
    "# df.to_csv('/home/yupaporn/code/EffNet-Person-Classify/data_label_by_tan_10082023_splited_imgpath28.csv')"
   ]
  },
  {
   "cell_type": "code",
   "execution_count": null,
   "id": "b6e48f28",
   "metadata": {},
   "outputs": [],
   "source": []
  }
 ],
 "metadata": {
  "kernelspec": {
   "display_name": "usai",
   "language": "python",
   "name": "usai"
  },
  "language_info": {
   "codemirror_mode": {
    "name": "ipython",
    "version": 3
   },
   "file_extension": ".py",
   "mimetype": "text/x-python",
   "name": "python",
   "nbconvert_exporter": "python",
   "pygments_lexer": "ipython3",
   "version": "3.6.9"
  }
 },
 "nbformat": 4,
 "nbformat_minor": 5
}
