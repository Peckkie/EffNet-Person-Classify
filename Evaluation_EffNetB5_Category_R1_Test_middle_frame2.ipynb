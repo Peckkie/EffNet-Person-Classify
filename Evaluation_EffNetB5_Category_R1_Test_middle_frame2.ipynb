{
 "cells": [
  {
   "cell_type": "code",
   "execution_count": 1,
   "id": "876e792c",
   "metadata": {},
   "outputs": [],
   "source": [
    "import os\n",
    "import numpy as np\n",
    "import efficientnet.tfkeras\n",
    "from tensorflow.keras.models import load_model\n",
    "import pandas as pd\n",
    "\n",
    "os.environ[\"CUDA_VISIBLE_DEVICES\"]=\"1\""
   ]
  },
  {
   "cell_type": "code",
   "execution_count": 2,
   "id": "2f631071",
   "metadata": {},
   "outputs": [],
   "source": [
    "#load mode\n",
    "model_dir ='/media/tohn/HDD/BearHouse-Person-Model/models/B5R1_Category_500.h5' #แก้\n",
    "model = load_model(model_dir)\n",
    "height = width = model.input_shape[1]"
   ]
  },
  {
   "cell_type": "code",
   "execution_count": 3,
   "id": "ad302e6f",
   "metadata": {},
   "outputs": [],
   "source": [
    "#Train\n",
    "dataframe = pd.read_csv('/home/yupaporn/codes/EffNet-Person-Classify/data_label_by_tan_09102023_splited_imgpath29_train_middleframe.csv') #แก้ data เปลี่ยนตาม fold\n",
    "base_dir = '/media/tohn/HDD/BearHouse-Person-Data/data_R3_middleframe/' #เปลี่ยนตาม fold\n",
    "dataframe = dataframe[dataframe['category'] != 'Children']\n",
    "os.chdir(base_dir)\n",
    "train_dir = os.path.join(base_dir, 'train')\n",
    "\n",
    "#validation\n",
    "valframe = pd.read_csv('/home/yupaporn/codes/EffNet-Person-Classify/data_label_by_tan_09102023_splited_imgpath29_val_middleframe.csv') #เปลี่ยนตาม fold\n",
    "valframe = valframe[valframe['category'] != 'Children']\n",
    "validation_dir = os.path.join(base_dir, 'validation')"
   ]
  },
  {
   "cell_type": "code",
   "execution_count": 4,
   "id": "b6da8ec8",
   "metadata": {},
   "outputs": [
    {
     "name": "stdout",
     "output_type": "stream",
     "text": [
      "Found 2679 validated image filenames belonging to 3 classes.\n",
      "Found 657 validated image filenames belonging to 3 classes.\n",
      "{0: 'Student', 1: 'Working', 2: 'motorcycle'}\n"
     ]
    }
   ],
   "source": [
    "batch_size = 1\n",
    "epochs = 10\n",
    "\n",
    "from tensorflow.keras.preprocessing.image import ImageDataGenerator\n",
    "\n",
    "train_datagen = ImageDataGenerator(\n",
    "      rescale=1./255,\n",
    "      rotation_range=30,\n",
    "      width_shift_range=0.2,\n",
    "      height_shift_range=0.2,\n",
    "      brightness_range=[0.5,1.5],\n",
    "      shear_range=0.4,\n",
    "      zoom_range=0.2,\n",
    "      horizontal_flip=False,\n",
    "      fill_mode='nearest')\n",
    "\n",
    "test_datagen = ImageDataGenerator(rescale=1./255)\n",
    "\n",
    "train_generator = train_datagen.flow_from_dataframe(\n",
    "        dataframe = dataframe,\n",
    "        directory = train_dir,\n",
    "        x_col = 'img_28_train',\n",
    "        y_col = 'category',\n",
    "        target_size = (height, width),\n",
    "        batch_size=batch_size,\n",
    "        color_mode= 'rgb',\n",
    "        class_mode='categorical')\n",
    "test_generator = test_datagen.flow_from_dataframe(\n",
    "        dataframe = valframe,\n",
    "        directory = validation_dir,\n",
    "        x_col = 'img_28_train',\n",
    "        y_col = 'category',\n",
    "        target_size = (height, width),\n",
    "        batch_size=batch_size,\n",
    "        color_mode= 'rgb',\n",
    "        class_mode='categorical')\n",
    "\n",
    "#label\n",
    "labels = (train_generator.class_indices)\n",
    "labels = dict((v,k.replace(\"C\",\"\")) for k,v in labels.items())\n",
    "print(labels)"
   ]
  },
  {
   "cell_type": "code",
   "execution_count": 5,
   "id": "84f10156",
   "metadata": {},
   "outputs": [],
   "source": [
    "# labels = dict({0: 'Men', 1: 'Women', 2: 'motorcycle'})\n",
    "# labels"
   ]
  },
  {
   "cell_type": "markdown",
   "id": "d939c8ae",
   "metadata": {},
   "source": [
    "# Select Data"
   ]
  },
  {
   "cell_type": "code",
   "execution_count": 6,
   "id": "b79e295d",
   "metadata": {},
   "outputs": [
    {
     "name": "stdout",
     "output_type": "stream",
     "text": [
      "(1285, 19)\n",
      "Men:  (471, 19)\n",
      "Women:  (674, 19)\n",
      "motorcycle:  (140, 19)\n"
     ]
    },
    {
     "data": {
      "text/html": [
       "<div>\n",
       "<style scoped>\n",
       "    .dataframe tbody tr th:only-of-type {\n",
       "        vertical-align: middle;\n",
       "    }\n",
       "\n",
       "    .dataframe tbody tr th {\n",
       "        vertical-align: top;\n",
       "    }\n",
       "\n",
       "    .dataframe thead th {\n",
       "        text-align: right;\n",
       "    }\n",
       "</style>\n",
       "<table border=\"1\" class=\"dataframe\">\n",
       "  <thead>\n",
       "    <tr style=\"text-align: right;\">\n",
       "      <th></th>\n",
       "      <th>Unnamed: 0</th>\n",
       "      <th>Unnamed: 0.1</th>\n",
       "      <th>Unnamed: 0.1.1</th>\n",
       "      <th>Unnamed: 0.1.1.1</th>\n",
       "      <th>path_img</th>\n",
       "      <th>img_no</th>\n",
       "      <th>branch</th>\n",
       "      <th>Path_folder_web</th>\n",
       "      <th>camera_angle</th>\n",
       "      <th>gender</th>\n",
       "      <th>category</th>\n",
       "      <th>work_by</th>\n",
       "      <th>status</th>\n",
       "      <th>clip_from</th>\n",
       "      <th>split</th>\n",
       "      <th>path_img_28</th>\n",
       "      <th>path_img_28_train</th>\n",
       "      <th>img_28_train</th>\n",
       "      <th>path_img_29</th>\n",
       "    </tr>\n",
       "  </thead>\n",
       "  <tbody>\n",
       "    <tr>\n",
       "      <th>0</th>\n",
       "      <td>0</td>\n",
       "      <td>36942</td>\n",
       "      <td>36942</td>\n",
       "      <td>12</td>\n",
       "      <td>/media/hdd/tan/code/Show-Images/static/BearHou...</td>\n",
       "      <td>17</td>\n",
       "      <td>thonburi</td>\n",
       "      <td>BearHouse-Person/thonburi_ch4_20230311080008_2...</td>\n",
       "      <td>ch4</td>\n",
       "      <td>Men</td>\n",
       "      <td>Working</td>\n",
       "      <td>Nat</td>\n",
       "      <td>NaN</td>\n",
       "      <td>Bear-House</td>\n",
       "      <td>test</td>\n",
       "      <td>/media/HDD/BearHouse-Person/thonburi_ch4_20230...</td>\n",
       "      <td>/media/HDD/BearHouse-Person-Data/data_R3_middl...</td>\n",
       "      <td>0_22766.jpg</td>\n",
       "      <td>/media/tohn/HDD/BearHouse-Person/thonburi_ch4_...</td>\n",
       "    </tr>\n",
       "    <tr>\n",
       "      <th>1</th>\n",
       "      <td>1</td>\n",
       "      <td>231940</td>\n",
       "      <td>231940</td>\n",
       "      <td>17</td>\n",
       "      <td>/media/hdd/tan/code/Show-Images/static/BearHou...</td>\n",
       "      <td>42</td>\n",
       "      <td>kku2</td>\n",
       "      <td>BearHouse-Person/IP Camera18_Complex_Complex_2...</td>\n",
       "      <td>camera18_Complex</td>\n",
       "      <td>Men</td>\n",
       "      <td>Working</td>\n",
       "      <td>Tung</td>\n",
       "      <td>NaN</td>\n",
       "      <td>Bear-House</td>\n",
       "      <td>test</td>\n",
       "      <td>/media/HDD/BearHouse-Person/IP Camera18_Comple...</td>\n",
       "      <td>/media/HDD/BearHouse-Person-Data/data_R3_middl...</td>\n",
       "      <td>1_25442.jpg</td>\n",
       "      <td>/media/tohn/HDD/BearHouse-Person/IP Camera18_C...</td>\n",
       "    </tr>\n",
       "    <tr>\n",
       "      <th>2</th>\n",
       "      <td>2</td>\n",
       "      <td>258144</td>\n",
       "      <td>258144</td>\n",
       "      <td>81</td>\n",
       "      <td>/media/hdd/tan/code/Show-Images/static/BearHou...</td>\n",
       "      <td>57</td>\n",
       "      <td>Camera17</td>\n",
       "      <td>BearHouse-Person/IP Camera17_kku2_kku2_2023061...</td>\n",
       "      <td>kku2</td>\n",
       "      <td>Men</td>\n",
       "      <td>Working</td>\n",
       "      <td>Tung</td>\n",
       "      <td>NaN</td>\n",
       "      <td>Bear-House</td>\n",
       "      <td>test</td>\n",
       "      <td>/media/HDD/BearHouse-Person/IP Camera17_kku2_k...</td>\n",
       "      <td>/media/HDD/BearHouse-Person-Data/data_R3_middl...</td>\n",
       "      <td>2_35191.jpg</td>\n",
       "      <td>/media/tohn/HDD/BearHouse-Person/IP Camera17_k...</td>\n",
       "    </tr>\n",
       "    <tr>\n",
       "      <th>3</th>\n",
       "      <td>3</td>\n",
       "      <td>268055</td>\n",
       "      <td>268055</td>\n",
       "      <td>42</td>\n",
       "      <td>/media/hdd/tan/code/Show-Images/static/BearHou...</td>\n",
       "      <td>30</td>\n",
       "      <td>Camera18</td>\n",
       "      <td>BearHouse-Person/IP-Camera18_Complex_Complex_2...</td>\n",
       "      <td>Complax</td>\n",
       "      <td>Women</td>\n",
       "      <td>Student</td>\n",
       "      <td>Nat</td>\n",
       "      <td>NaN</td>\n",
       "      <td>KKU</td>\n",
       "      <td>test</td>\n",
       "      <td>/media/HDD/BearHouse-Person/IP-Camera18_Comple...</td>\n",
       "      <td>/media/HDD/BearHouse-Person-Data/data_R3_middl...</td>\n",
       "      <td>3_129.jpg</td>\n",
       "      <td>/media/tohn/HDD/BearHouse-Person/IP-Camera18_C...</td>\n",
       "    </tr>\n",
       "    <tr>\n",
       "      <th>4</th>\n",
       "      <td>4</td>\n",
       "      <td>241781</td>\n",
       "      <td>241781</td>\n",
       "      <td>119</td>\n",
       "      <td>/media/hdd/tan/code/Show-Images/static/BearHou...</td>\n",
       "      <td>62</td>\n",
       "      <td>Camera17</td>\n",
       "      <td>BearHouse-Person/IP Camera17_kku2_kku2_2023061...</td>\n",
       "      <td>kku2</td>\n",
       "      <td>Men</td>\n",
       "      <td>Working</td>\n",
       "      <td>Yoke</td>\n",
       "      <td>NaN</td>\n",
       "      <td>Bear-House</td>\n",
       "      <td>test</td>\n",
       "      <td>/media/HDD/BearHouse-Person/IP Camera17_kku2_k...</td>\n",
       "      <td>/media/HDD/BearHouse-Person-Data/data_R3_middl...</td>\n",
       "      <td>4_5061.jpg</td>\n",
       "      <td>/media/tohn/HDD/BearHouse-Person/IP Camera17_k...</td>\n",
       "    </tr>\n",
       "  </tbody>\n",
       "</table>\n",
       "</div>"
      ],
      "text/plain": [
       "   Unnamed: 0  Unnamed: 0.1  Unnamed: 0.1.1  Unnamed: 0.1.1.1  \\\n",
       "0           0         36942           36942                12   \n",
       "1           1        231940          231940                17   \n",
       "2           2        258144          258144                81   \n",
       "3           3        268055          268055                42   \n",
       "4           4        241781          241781               119   \n",
       "\n",
       "                                            path_img  img_no    branch  \\\n",
       "0  /media/hdd/tan/code/Show-Images/static/BearHou...      17  thonburi   \n",
       "1  /media/hdd/tan/code/Show-Images/static/BearHou...      42      kku2   \n",
       "2  /media/hdd/tan/code/Show-Images/static/BearHou...      57  Camera17   \n",
       "3  /media/hdd/tan/code/Show-Images/static/BearHou...      30  Camera18   \n",
       "4  /media/hdd/tan/code/Show-Images/static/BearHou...      62  Camera17   \n",
       "\n",
       "                                     Path_folder_web      camera_angle gender  \\\n",
       "0  BearHouse-Person/thonburi_ch4_20230311080008_2...               ch4    Men   \n",
       "1  BearHouse-Person/IP Camera18_Complex_Complex_2...  camera18_Complex    Men   \n",
       "2  BearHouse-Person/IP Camera17_kku2_kku2_2023061...              kku2    Men   \n",
       "3  BearHouse-Person/IP-Camera18_Complex_Complex_2...           Complax  Women   \n",
       "4  BearHouse-Person/IP Camera17_kku2_kku2_2023061...              kku2    Men   \n",
       "\n",
       "  category work_by status   clip_from split  \\\n",
       "0  Working     Nat    NaN  Bear-House  test   \n",
       "1  Working    Tung    NaN  Bear-House  test   \n",
       "2  Working    Tung    NaN  Bear-House  test   \n",
       "3  Student     Nat    NaN         KKU  test   \n",
       "4  Working    Yoke    NaN  Bear-House  test   \n",
       "\n",
       "                                         path_img_28  \\\n",
       "0  /media/HDD/BearHouse-Person/thonburi_ch4_20230...   \n",
       "1  /media/HDD/BearHouse-Person/IP Camera18_Comple...   \n",
       "2  /media/HDD/BearHouse-Person/IP Camera17_kku2_k...   \n",
       "3  /media/HDD/BearHouse-Person/IP-Camera18_Comple...   \n",
       "4  /media/HDD/BearHouse-Person/IP Camera17_kku2_k...   \n",
       "\n",
       "                                   path_img_28_train img_28_train  \\\n",
       "0  /media/HDD/BearHouse-Person-Data/data_R3_middl...  0_22766.jpg   \n",
       "1  /media/HDD/BearHouse-Person-Data/data_R3_middl...  1_25442.jpg   \n",
       "2  /media/HDD/BearHouse-Person-Data/data_R3_middl...  2_35191.jpg   \n",
       "3  /media/HDD/BearHouse-Person-Data/data_R3_middl...    3_129.jpg   \n",
       "4  /media/HDD/BearHouse-Person-Data/data_R3_middl...   4_5061.jpg   \n",
       "\n",
       "                                         path_img_29  \n",
       "0  /media/tohn/HDD/BearHouse-Person/thonburi_ch4_...  \n",
       "1  /media/tohn/HDD/BearHouse-Person/IP Camera18_C...  \n",
       "2  /media/tohn/HDD/BearHouse-Person/IP Camera17_k...  \n",
       "3  /media/tohn/HDD/BearHouse-Person/IP-Camera18_C...  \n",
       "4  /media/tohn/HDD/BearHouse-Person/IP Camera17_k...  "
      ]
     },
     "execution_count": 6,
     "metadata": {},
     "output_type": "execute_result"
    }
   ],
   "source": [
    "import pandas as pd\n",
    "# df0 = pd.read_csv (r'/home/yupaporn/codes/USAI/Testdf.csv')\n",
    "df0 = pd.read_csv('/home/yupaporn/codes/EffNet-Person-Classify/data_label_by_tan_09102023_splited_imgpath29_test_middleframe.csv') \n",
    "dataframe = df0[df0['category']!='Children']\n",
    "# print(df0 .shape)\n",
    "print(dataframe.shape)\n",
    "print('Men: ',dataframe[dataframe['gender']=='Men'].shape)\n",
    "print('Women: ',dataframe[dataframe['gender']=='Women'].shape)\n",
    "print('motorcycle: ',dataframe[dataframe['gender']=='motorcycle'].shape)\n",
    "dataframe.head(5)"
   ]
  },
  {
   "cell_type": "markdown",
   "id": "5ef91bcf",
   "metadata": {},
   "source": [
    "# Prediction"
   ]
  },
  {
   "cell_type": "code",
   "execution_count": 7,
   "id": "c3410a2b",
   "metadata": {},
   "outputs": [],
   "source": [
    "base_dir = '/media/tohn/HDD/BearHouse-Person-Data/data_R3_middleframe/test'\n",
    "os.chdir(base_dir)"
   ]
  },
  {
   "cell_type": "code",
   "execution_count": 8,
   "id": "5feb25b5",
   "metadata": {},
   "outputs": [
    {
     "name": "stderr",
     "output_type": "stream",
     "text": [
      "/home/yupaporn/.local/lib/python3.6/site-packages/ipykernel_launcher.py:24: SettingWithCopyWarning: \n",
      "A value is trying to be set on a copy of a slice from a DataFrame.\n",
      "Try using .loc[row_indexer,col_indexer] = value instead\n",
      "\n",
      "See the caveats in the documentation: https://pandas.pydata.org/pandas-docs/stable/user_guide/indexing.html#returning-a-view-versus-a-copy\n",
      "/home/yupaporn/.local/lib/python3.6/site-packages/ipykernel_launcher.py:25: SettingWithCopyWarning: \n",
      "A value is trying to be set on a copy of a slice from a DataFrame.\n",
      "Try using .loc[row_indexer,col_indexer] = value instead\n",
      "\n",
      "See the caveats in the documentation: https://pandas.pydata.org/pandas-docs/stable/user_guide/indexing.html#returning-a-view-versus-a-copy\n"
     ]
    }
   ],
   "source": [
    "from tensorflow.keras.preprocessing import image\n",
    "def predict_image(img_path):\n",
    "    # Read the image and resize it\n",
    "    img = image.load_img(img_path, target_size=(height, width))\n",
    "    # Convert it to a Numpy array with target shape.\n",
    "    x = image.img_to_array(img)\n",
    "    # Reshape\n",
    "    x = x.reshape((1,) + x.shape)\n",
    "    x /= 255.\n",
    "    result = model.predict([x])\n",
    "    \n",
    "    return result[0]\n",
    "\n",
    "# Predict\n",
    "pred_list = list()\n",
    "prob_list = list()\n",
    "img_path=dataframe['img_28_train'].tolist()\n",
    "for i in range(0,len(img_path)):\n",
    "    predict = predict_image(img_path[i])\n",
    "    result = np.argmax(predict)\n",
    "    pred_list.append(labels[result])\n",
    "    prob_list.append(predict[result])\n",
    "\n",
    "dataframe['Category'] = pred_list\n",
    "dataframe['Prob'] = prob_list"
   ]
  },
  {
   "cell_type": "markdown",
   "id": "4bba4113",
   "metadata": {},
   "source": [
    "# Visualization"
   ]
  },
  {
   "cell_type": "code",
   "execution_count": 9,
   "id": "838e643a",
   "metadata": {},
   "outputs": [
    {
     "name": "stdout",
     "output_type": "stream",
     "text": [
      "Predicted :  3\n",
      "{'Student', 'motorcycle', 'Working'}\n",
      "Actual :  3\n",
      "{'Student', 'motorcycle', 'Working'}\n"
     ]
    }
   ],
   "source": [
    "data_train = dataframe\n",
    "#เช็คคลาสใน Predicted\n",
    "pred_class = set(data_train['Category'])\n",
    "print('Predicted : ',len(pred_class))\n",
    "print(pred_class)\n",
    "#เช็คคลาสใน Actual\n",
    "classe = set(data_train['category'])\n",
    "print('Actual : ',len(classe))\n",
    "print(classe)"
   ]
  },
  {
   "cell_type": "code",
   "execution_count": 10,
   "id": "e499f33c",
   "metadata": {},
   "outputs": [
    {
     "name": "stdout",
     "output_type": "stream",
     "text": [
      "classifier accuracy = 84.98054474708171%\n",
      "              precision    recall  f1-score   support\n",
      "\n",
      "     Student       0.75      0.54      0.63       262\n",
      "     Working       0.87      0.94      0.90       883\n",
      "  motorcycle       0.85      0.87      0.86       140\n",
      "\n",
      "    accuracy                           0.85      1285\n",
      "   macro avg       0.82      0.78      0.80      1285\n",
      "weighted avg       0.84      0.85      0.84      1285\n",
      "\n"
     ]
    }
   ],
   "source": [
    "import numpy as np\n",
    "from sklearn.metrics import confusion_matrix\n",
    "act = data_train['category'].array\n",
    "pred = data_train['Category'].array\n",
    "\n",
    "cmat = confusion_matrix(act, pred)\n",
    "print('classifier accuracy = {}%'.format((100.*np.trace(cmat))/(np.sum(cmat))))\n",
    "\n",
    "#Marking the Confusion Matrix\n",
    "from sklearn.metrics import classification_report,confusion_matrix\n",
    "print(classification_report(act, pred))#performance"
   ]
  },
  {
   "cell_type": "markdown",
   "id": "ea36b7b9",
   "metadata": {},
   "source": [
    "# Confusion matrix"
   ]
  },
  {
   "cell_type": "code",
   "execution_count": 11,
   "id": "86facffe",
   "metadata": {},
   "outputs": [
    {
     "data": {
      "text/plain": [
       "Text(0.5, 21.5, 'Predicted label')"
      ]
     },
     "execution_count": 11,
     "metadata": {},
     "output_type": "execute_result"
    },
    {
     "data": {
      "image/png": "[encoded data removed]",
      "text/plain": [
       "<Figure size 576x360 with 2 Axes>"
      ]
     },
     "metadata": {},
     "output_type": "display_data"
    }
   ],
   "source": [
    "#create CF \n",
    "data = {'Actual': act,'Predicted' : pred,}\n",
    "df = pd.DataFrame(data, columns=['Actual','Predicted'])\n",
    "conf_mat = pd.crosstab(df['Actual'],df['Predicted'],rownames=['Actual'],colnames=['Predicted'])\n",
    "\n",
    "#Confusion matrix\n",
    "from sklearn.metrics import confusion_matrix\n",
    "import matplotlib.pyplot as plt\n",
    "cm = confusion_matrix(act, pred)\n",
    "\n",
    "#plot Confusion matrix\n",
    "import seaborn as sns\n",
    "sns.set()\n",
    "fig, ax = plt.subplots(figsize=(8, 5))\n",
    "\n",
    "ax = sns.heatmap(conf_mat, annot=True, fmt=\"d\", cmap=\"YlGnBu\") #Blues,Oranges,Reds\n",
    "ax.set_title('Confusion matrix',fontsize=20)\n",
    "ax.set_ylabel('True label',fontsize=18)\n",
    "ax.set_xlabel('Predicted label',fontsize=18)"
   ]
  },
  {
   "cell_type": "code",
   "execution_count": null,
   "id": "578a020e",
   "metadata": {},
   "outputs": [],
   "source": []
  },
  {
   "cell_type": "code",
   "execution_count": null,
   "metadata": {},
   "outputs": [],
   "source": []
  }
 ],
 "metadata": {
  "kernelspec": {
   "display_name": "USAI3",
   "language": "python",
   "name": "usai3"
  },
  "language_info": {
   "codemirror_mode": {
    "name": "ipython",
    "version": 3
   },
   "file_extension": ".py",
   "mimetype": "text/x-python",
   "name": "python",
   "nbconvert_exporter": "python",
   "pygments_lexer": "ipython3",
   "version": "3.6.9"
  }
 },
 "nbformat": 4,
 "nbformat_minor": 5
}
